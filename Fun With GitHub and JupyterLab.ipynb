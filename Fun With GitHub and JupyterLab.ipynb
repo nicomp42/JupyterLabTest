{
 "cells": [
  {
   "cell_type": "markdown",
   "id": "ec01d806-b08a-4434-bdd3-da9907a5877e",
   "metadata": {},
   "source": [
    "### Fun With GitHub and JupyterLab"
   ]
  },
  {
   "cell_type": "code",
   "execution_count": null,
   "id": "7ac992e2-ee49-45fe-a945-b3627e48e5e9",
   "metadata": {},
   "outputs": [],
   "source": [
    "import numpy\n",
    "import pandas\n",
    "import random"
   ]
  },
  {
   "cell_type": "code",
   "execution_count": null,
   "id": "21207b0c-553f-45e2-8c92-f5f29a5ab69c",
   "metadata": {},
   "outputs": [],
   "source": [
    "myNames = [\"Andy\", \"David\", \"Elaine\", \"Paul\", \"Elaine]\n",
    "           "
   ]
  }
 ],
 "metadata": {
  "kernelspec": {
   "display_name": "Python 3 (ipykernel)",
   "language": "python",
   "name": "python3"
  },
  "language_info": {
   "codemirror_mode": {
    "name": "ipython",
    "version": 3
   },
   "file_extension": ".py",
   "mimetype": "text/x-python",
   "name": "python",
   "nbconvert_exporter": "python",
   "pygments_lexer": "ipython3",
   "version": "3.8.13"
  }
 },
 "nbformat": 4,
 "nbformat_minor": 5
}

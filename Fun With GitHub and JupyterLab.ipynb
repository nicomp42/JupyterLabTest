{
 "cells": [
  {
   "cell_type": "markdown",
   "id": "ec01d806-b08a-4434-bdd3-da9907a5877e",
   "metadata": {},
   "source": [
    "### Fun With GitHub and JupyterLab"
   ]
  },
  {
   "cell_type": "code",
   "execution_count": 1,
   "id": "7ac992e2-ee49-45fe-a945-b3627e48e5e9",
   "metadata": {},
   "outputs": [],
   "source": [
    "import numpy\n",
    "import pandas\n",
    "import random\n",
    "import csv"
   ]
  },
  {
   "cell_type": "code",
   "execution_count": 2,
   "id": "c0ebca82-cfee-4d43-b2d2-3c2618ada220",
   "metadata": {},
   "outputs": [
    {
     "ename": "SyntaxError",
     "evalue": "'return' outside function (1449914189.py, line 6)",
     "output_type": "error",
     "traceback": [
      "\u001b[1;36m  Input \u001b[1;32mIn [2]\u001b[1;36m\u001b[0m\n\u001b[1;33m    return (data)\u001b[0m\n\u001b[1;37m    ^\u001b[0m\n\u001b[1;31mSyntaxError\u001b[0m\u001b[1;31m:\u001b[0m 'return' outside function\n"
     ]
    }
   ],
   "source": [
    "def readCities():\n",
    "    with open('USCities.csv', newline='') as f:\n",
    "        reader = csv.reader(f)\n",
    "        data = list(reader)\n",
    "\n",
    "return (data)"
   ]
  },
  {
   "cell_type": "code",
   "execution_count": null,
   "id": "21207b0c-553f-45e2-8c92-f5f29a5ab69c",
   "metadata": {},
   "outputs": [],
   "source": [
    "myNames = [\"Andy\", \"David\", \"Elaine\", \"Paul\", \"Elaine]\n",
    "myCities = readCities()\n",
    "print(cities)"
   ]
  }
 ],
 "metadata": {
  "kernelspec": {
   "display_name": "Python 3 (ipykernel)",
   "language": "python",
   "name": "python3"
  },
  "language_info": {
   "codemirror_mode": {
    "name": "ipython",
    "version": 3
   },
   "file_extension": ".py",
   "mimetype": "text/x-python",
   "name": "python",
   "nbconvert_exporter": "python",
   "pygments_lexer": "ipython3",
   "version": "3.8.13"
  }
 },
 "nbformat": 4,
 "nbformat_minor": 5
}
